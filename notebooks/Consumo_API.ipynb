{
 "cells": [
  {
   "cell_type": "code",
   "execution_count": 5,
   "id": "7a77b811-4dba-405a-b1e5-be0da8f94b5b",
   "metadata": {},
   "outputs": [],
   "source": [
    "import requests\n",
    "\n",
    "url = 'http://127.0.0.1:5000/precio_casas/'\n",
    "datos = {\n",
    "    \"area\":128,\n",
    "    \"modelo\":1999,\n",
    "    \"estacionamiento\":1\n",
    "    }\n",
    "\n",
    "response = requests.post(url,json=datos)"
   ]
  },
  {
   "cell_type": "code",
   "execution_count": 2,
   "id": "c5814a59-c9e8-448c-bdfd-775bd50b3a9d",
   "metadata": {},
   "outputs": [
    {
     "ename": "NameError",
     "evalue": "name 'response' is not defined",
     "output_type": "error",
     "traceback": [
      "\u001b[1;31m---------------------------------------------------------------------------\u001b[0m",
      "\u001b[1;31mNameError\u001b[0m                                 Traceback (most recent call last)",
      "Cell \u001b[1;32mIn[2], line 1\u001b[0m\n\u001b[1;32m----> 1\u001b[0m response\u001b[38;5;241m.\u001b[39mstatus_code\n",
      "\u001b[1;31mNameError\u001b[0m: name 'response' is not defined"
     ]
    }
   ],
   "source": [
    "response.status_code"
   ]
  },
  {
   "cell_type": "code",
   "execution_count": 11,
   "id": "da067f0f-db14-4493-ac03-0fa2a084100b",
   "metadata": {},
   "outputs": [],
   "source": [
    "auth = requests.auth.HTTPBasicAuth('invitado', '123456')\n",
    "response = requests.post(url, json=datos, auth=auth)"
   ]
  },
  {
   "cell_type": "code",
   "execution_count": 12,
   "id": "f6d6cae3-5f59-4ad3-8bf4-b7fb2e382498",
   "metadata": {},
   "outputs": [
    {
     "data": {
      "text/plain": [
       "200"
      ]
     },
     "execution_count": 12,
     "metadata": {},
     "output_type": "execute_result"
    }
   ],
   "source": [
    "response.status_code"
   ]
  },
  {
   "cell_type": "code",
   "execution_count": 13,
   "id": "0e38b373-e445-4693-b2ee-939ffdc402f8",
   "metadata": {},
   "outputs": [
    {
     "data": {
      "text/plain": [
       "'{\\n  \"precio\": \"El precio estimado de la casa es: 170785.20179426344\"\\n}\\n'"
      ]
     },
     "execution_count": 13,
     "metadata": {},
     "output_type": "execute_result"
    }
   ],
   "source": [
    "response.text"
   ]
  },
  {
   "cell_type": "code",
   "execution_count": null,
   "id": "d2243071-89bc-449e-88f2-30bce08bd5be",
   "metadata": {},
   "outputs": [],
   "source": []
  }
 ],
 "metadata": {
  "kernelspec": {
   "display_name": "Python 3 (ipykernel)",
   "language": "python",
   "name": "python3"
  },
  "language_info": {
   "codemirror_mode": {
    "name": "ipython",
    "version": 3
   },
   "file_extension": ".py",
   "mimetype": "text/x-python",
   "name": "python",
   "nbconvert_exporter": "python",
   "pygments_lexer": "ipython3",
   "version": "3.12.4"
  }
 },
 "nbformat": 4,
 "nbformat_minor": 5
}
